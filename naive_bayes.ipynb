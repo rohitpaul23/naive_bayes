{
  "cells": [
    {
      "cell_type": "markdown",
      "metadata": {
        "id": "view-in-github",
        "colab_type": "text"
      },
      "source": [
        "<a href=\"https://colab.research.google.com/github/rohitpaul23/naive_bayes/blob/main/naive_bayes.ipynb\" target=\"_parent\"><img src=\"https://colab.research.google.com/assets/colab-badge.svg\" alt=\"Open In Colab\"/></a>"
      ]
    },
    {
      "cell_type": "markdown",
      "metadata": {
        "id": "IzRvISbizrjP"
      },
      "source": [
        "# NAIVE BAYES ALGORITHM\n",
        "\n",
        "Use the Naı̈ve Bayes algorithm for TEXT CLASSIFICATION. The dataset for this problem\n",
        "is the Amazon Digital Music review dataset and has been obtained from this website. Given a users review,\n",
        "task is to predict the ‘overall’ rating given by the reviewer. Provided with separate training and test files containing 50,000 reviews (samples) and 14,000 reviews respectively. A review comes from one of the five categories\n",
        "(class label). Here, class label represents ‘overall’ rating given by the user along with the ‘reviewText’"
      ]
    },
    {
      "cell_type": "code",
      "execution_count": 1,
      "metadata": {
        "id": "9ukrP10HzrjX"
      },
      "outputs": [],
      "source": [
        "import json\n",
        "import re\n",
        "import pandas as pd\n",
        "import numpy as np\n",
        "import random\n",
        "from nltk.stem import PorterStemmer\n",
        "\n",
        "ps = PorterStemmer()"
      ]
    },
    {
      "cell_type": "markdown",
      "metadata": {
        "id": "tLA8I8ZXzrjZ"
      },
      "source": [
        "Get Training Data"
      ]
    },
    {
      "cell_type": "code",
      "source": [
        "from google.colab import drive\n",
        "drive.mount(\"/content/gdrive\")"
      ],
      "metadata": {
        "colab": {
          "base_uri": "https://localhost:8080/"
        },
        "id": "vrvFJEZazzIB",
        "outputId": "1492cc8c-8680-445e-de1d-a45526a3bc4d"
      },
      "execution_count": 2,
      "outputs": [
        {
          "output_type": "stream",
          "name": "stdout",
          "text": [
            "Mounted at /content/gdrive\n"
          ]
        }
      ]
    },
    {
      "cell_type": "code",
      "execution_count": 3,
      "metadata": {
        "id": "8pjwQpMPzrjZ"
      },
      "outputs": [],
      "source": [
        "dataloc = '/content/gdrive/My Drive/projectData/ass2/data/q1/reviews_Digital_Music/Music_Review_train.json'\n",
        "\n",
        "jsonData = [json.loads(line) for line in open(dataloc, 'r')]\n"
      ]
    },
    {
      "cell_type": "markdown",
      "source": [
        "List of features in the datasets"
      ],
      "metadata": {
        "id": "jr-jDri38G4y"
      }
    },
    {
      "cell_type": "code",
      "execution_count": 4,
      "metadata": {
        "colab": {
          "base_uri": "https://localhost:8080/"
        },
        "id": "ElfHXyAxzrja",
        "outputId": "a179e5b8-40ea-4407-a79c-f65ad7cef7c5"
      },
      "outputs": [
        {
          "output_type": "execute_result",
          "data": {
            "text/plain": [
              "['reviewerID',\n",
              " 'asin',\n",
              " 'reviewerName',\n",
              " 'helpful',\n",
              " 'reviewText',\n",
              " 'overall',\n",
              " 'summary',\n",
              " 'unixReviewTime',\n",
              " 'reviewTime']"
            ]
          },
          "metadata": {},
          "execution_count": 4
        }
      ],
      "source": [
        "jsonDataKeys = list(jsonData[0].keys())\n",
        "jsonDataKeys"
      ]
    },
    {
      "cell_type": "markdown",
      "source": [
        "First Data"
      ],
      "metadata": {
        "id": "aga0zHDl8hsS"
      }
    },
    {
      "cell_type": "code",
      "source": [
        "jsonData[0]"
      ],
      "metadata": {
        "colab": {
          "base_uri": "https://localhost:8080/"
        },
        "id": "cl5xsSgB8XIt",
        "outputId": "8846e70e-0b10-4835-d857-439e6df4e137"
      },
      "execution_count": 24,
      "outputs": [
        {
          "output_type": "execute_result",
          "data": {
            "text/plain": [
              "{'asin': 'B000AA302A',\n",
              " 'helpful': [1, 1],\n",
              " 'overall': 5.0,\n",
              " 'reviewText': 'This is one of the best albums I\\'ve bought in a while.  It\\'s like, Rush for the new millenium.  Great musicianship, and really catchy songs.  I especially like \"The Willing Well\" (all 4 parts), \"Welcome Home\", \"Crossing the Frame\", and \"Apollo I\", but they\\'re all great.  Buy this now.',\n",
              " 'reviewTime': '05 4, 2006',\n",
              " 'reviewerID': 'A2DWB9Y1SM0FVU',\n",
              " 'reviewerName': 'Ross Reynolds',\n",
              " 'summary': 'HOLY MOSES GRANDMA!!!',\n",
              " 'unixReviewTime': 1146700800}"
            ]
          },
          "metadata": {},
          "execution_count": 24
        }
      ]
    },
    {
      "cell_type": "markdown",
      "source": [
        "Will be using the 'revieText' as training sentences based on which will predict the 'overall'"
      ],
      "metadata": {
        "id": "2YvP4i1m8sbM"
      }
    },
    {
      "cell_type": "markdown",
      "metadata": {
        "id": "VPby57Hyzrjb"
      },
      "source": [
        "Get Test Data"
      ]
    },
    {
      "cell_type": "code",
      "execution_count": 5,
      "metadata": {
        "id": "sdP0Vr1Vzrjc"
      },
      "outputs": [],
      "source": [
        "testdataloc = '/content/gdrive/My Drive/projectData/ass2/data/q1/reviews_Digital_Music/Music_Review_test.json'\n",
        "\n",
        "jsonTestData = [json.loads(line) for line in open(testdataloc, 'r')]\n",
        "jsonTestDataKeys = list(jsonTestData[0].keys())"
      ]
    },
    {
      "cell_type": "code",
      "execution_count": 25,
      "metadata": {
        "colab": {
          "base_uri": "https://localhost:8080/"
        },
        "id": "HcKEfWfjzrjd",
        "outputId": "f4ba2d5c-bbbb-4967-fcde-a437887aa57e"
      },
      "outputs": [
        {
          "output_type": "execute_result",
          "data": {
            "text/plain": [
              "(50000, 14000)"
            ]
          },
          "metadata": {},
          "execution_count": 25
        }
      ],
      "source": [
        "len(jsonData), len(jsonTestData)"
      ]
    },
    {
      "cell_type": "markdown",
      "source": [
        "Have total of 50000 training data and 14000 test data"
      ],
      "metadata": {
        "id": "VcR6onRV9XtE"
      }
    },
    {
      "cell_type": "markdown",
      "metadata": {
        "id": "4uZrXEPqzrje"
      },
      "source": [
        "Require to predict 'overall' from the dataset\n",
        "\n",
        "Determine y(labels) and number of labels "
      ]
    },
    {
      "cell_type": "code",
      "execution_count": 8,
      "metadata": {
        "id": "TZJ-w1pnzrjf"
      },
      "outputs": [],
      "source": [
        "random.shuffle(jsonData)"
      ]
    },
    {
      "cell_type": "code",
      "source": [
        "m = 5000"
      ],
      "metadata": {
        "id": "-h_oh5hf9v2D"
      },
      "execution_count": 26,
      "outputs": []
    },
    {
      "cell_type": "markdown",
      "source": [
        "Taking 5000 training data to get the features or words that will be used in classification"
      ],
      "metadata": {
        "id": "eUfgE8Wo9xcz"
      }
    },
    {
      "cell_type": "code",
      "execution_count": 9,
      "metadata": {
        "colab": {
          "base_uri": "https://localhost:8080/"
        },
        "id": "zP9Lne7Hzrjf",
        "outputId": "6e0a1346-ffd3-4b21-836c-11e77779c75b"
      },
      "outputs": [
        {
          "output_type": "execute_result",
          "data": {
            "text/plain": [
              "(array([1, 2, 3, 4, 5]), {1: 252, 2: 283, 3: 523, 4: 1327, 5: 2615})"
            ]
          },
          "metadata": {},
          "execution_count": 9
        }
      ],
      "source": [
        "y = []\n",
        "y_test = []\n",
        "labelsDict = {}\n",
        "for docIndex in range(m):\n",
        "    label = int(jsonData[docIndex][jsonDataKeys[5]])\n",
        "    y.append(label)\n",
        "    y_test.append(int(jsonTestData[docIndex][jsonTestDataKeys[5]]))\n",
        "    if label in labelsDict.keys():\n",
        "        labelsDict[label] += 1\n",
        "    else:\n",
        "        labelsDict[label] = 1\n",
        "y = np.array(y)\n",
        "y_test = np.array(y_test)\n",
        "\n",
        "labels = np.unique(y)\n",
        "y = y.reshape(m,1)\n",
        "y_test = y_test.reshape(m,1)\n",
        "L = len(labels)\n",
        "labels, labelsDict"
      ]
    },
    {
      "cell_type": "markdown",
      "source": [
        "A Total of 5 classes to classify the data "
      ],
      "metadata": {
        "id": "YYMxxg4k-Dik"
      }
    },
    {
      "cell_type": "markdown",
      "source": [
        ""
      ],
      "metadata": {
        "id": "lYnisUD0-RUV"
      }
    },
    {
      "cell_type": "code",
      "execution_count": 10,
      "metadata": {
        "id": "ImKyc-o1zrjg"
      },
      "outputs": [],
      "source": [
        "uniqueWords = []\n",
        "\n",
        "for docIndex in range(m):\n",
        "    document = jsonData[docIndex][jsonDataKeys[4]]\n",
        "    wordsInDoc = re.split(r'[\\s.,()\\']', document)\n",
        "    for word in wordsInDoc:\n",
        "        if len(word) > 2 and  word.isalpha():\n",
        "            stemWord = ps.stem(word)\n",
        "            if stemWord not in uniqueWords:\n",
        "                uniqueWords.append(stemWord)"
      ]
    },
    {
      "cell_type": "code",
      "execution_count": 11,
      "metadata": {
        "colab": {
          "base_uri": "https://localhost:8080/"
        },
        "id": "s6llmjedzrjh",
        "outputId": "c1319897-3c62-48e6-af68-95a346139389"
      },
      "outputs": [
        {
          "output_type": "execute_result",
          "data": {
            "text/plain": [
              "20325"
            ]
          },
          "metadata": {},
          "execution_count": 11
        }
      ],
      "source": [
        "featureSize = len(uniqueWords)\n",
        "featureSize"
      ]
    },
    {
      "cell_type": "markdown",
      "source": [
        "A total of 20325 unique words that will be the features obtained from 5000 data used in classifications"
      ],
      "metadata": {
        "id": "s5YB1ZRj-WXB"
      }
    },
    {
      "cell_type": "code",
      "execution_count": 12,
      "metadata": {
        "id": "_EXe4girzrjh"
      },
      "outputs": [],
      "source": [
        "X = []\n",
        "X_test = []\n",
        "for docIndex in range(5000):\n",
        "    docFeatures = [0 for _ in range(featureSize)]\n",
        "    docTestFeatures = [0 for _ in range(featureSize)]\n",
        "    document = jsonData[docIndex][jsonDataKeys[4]]\n",
        "    wordsInDoc = re.split(r'[\\s.,()\\']', document)\n",
        "    for word in wordsInDoc:\n",
        "        if len(word) > 2 and  word.isalpha():\n",
        "            stemWord = ps.stem(word)\n",
        "            if stemWord in uniqueWords:\n",
        "                docFeatures[uniqueWords.index(stemWord)] += 1\n",
        "    X.append(docFeatures)    \n",
        "\n",
        "    testdocument = jsonTestData[docIndex][jsonTestDataKeys[4]]\n",
        "    wordsInTestDoc = re.split(r'[\\s.,()\\']', testdocument)\n",
        "    for word in wordsInTestDoc:\n",
        "        if len(word) > 2 and  word.isalpha():\n",
        "            stemWord = ps.stem(word)\n",
        "            if stemWord in uniqueWords:\n",
        "                docTestFeatures[uniqueWords.index(stemWord)] += 1\n",
        "    X_test.append(docTestFeatures)    \n",
        "    \n",
        "X = np.array(X)\n",
        "X_test = np.array(X_test)"
      ]
    },
    {
      "cell_type": "code",
      "execution_count": 13,
      "metadata": {
        "colab": {
          "base_uri": "https://localhost:8080/"
        },
        "id": "2ONDsQuGzrji",
        "outputId": "422be663-18af-4ad1-e6a8-e7afc9f4355d"
      },
      "outputs": [
        {
          "output_type": "execute_result",
          "data": {
            "text/plain": [
              "((5000, 20325), (5000, 1))"
            ]
          },
          "metadata": {},
          "execution_count": 13
        }
      ],
      "source": [
        "n = X.shape[1]\n",
        "X.shape, y.shape"
      ]
    },
    {
      "cell_type": "code",
      "execution_count": 14,
      "metadata": {
        "colab": {
          "base_uri": "https://localhost:8080/"
        },
        "id": "yQ7vWIoyzrjj",
        "outputId": "79b39df1-90b6-4ac8-fb29-f17c6c4dcda6"
      },
      "outputs": [
        {
          "output_type": "execute_result",
          "data": {
            "text/plain": [
              "(array([[ 2,  1,  3, ...,  0,  0,  0],\n",
              "        [ 2,  0,  7, ...,  0,  0,  0],\n",
              "        [ 6,  1,  6, ...,  0,  0,  0],\n",
              "        ...,\n",
              "        [ 0,  1, 15, ...,  1,  1,  1],\n",
              "        [ 5,  8, 29, ...,  0,  0,  0],\n",
              "        [ 1,  1,  6, ...,  0,  0,  0]]), array([[5],\n",
              "        [2],\n",
              "        [4],\n",
              "        ...,\n",
              "        [5],\n",
              "        [4],\n",
              "        [2]]))"
            ]
          },
          "metadata": {},
          "execution_count": 14
        }
      ],
      "source": [
        "X, y"
      ]
    },
    {
      "cell_type": "markdown",
      "metadata": {
        "id": "F0x5JcEGzrjk"
      },
      "source": [
        "### Calculating the Paramters"
      ]
    },
    {
      "cell_type": "markdown",
      "metadata": {
        "id": "qnDGlG9ezrjl"
      },
      "source": [
        "Determining phi i.e., [phi1, phi2, phi3, phi4, phi5] to predict the probability of y"
      ]
    },
    {
      "cell_type": "code",
      "execution_count": 15,
      "metadata": {
        "colab": {
          "base_uri": "https://localhost:8080/"
        },
        "id": "5ytOnEqjzrjl",
        "outputId": "4c9abcff-2a25-48f3-8cc0-04ca7baed1ad"
      },
      "outputs": [
        {
          "output_type": "execute_result",
          "data": {
            "text/plain": [
              "[252, 283, 523, 1327, 2615]"
            ]
          },
          "metadata": {},
          "execution_count": 15
        }
      ],
      "source": [
        "phi = [0, 0, 0, 0, 0]\n",
        "for index in range(m):\n",
        "    label = y[index][0]\n",
        "    if label == 1:\n",
        "        phi[0] += 1\n",
        "    elif label == 2:\n",
        "        phi[1] += 1\n",
        "    elif label == 3:\n",
        "        phi[2] += 1\n",
        "    elif label == 4:\n",
        "        phi[3] += 1\n",
        "    elif label == 5:\n",
        "        phi[4] += 1\n",
        "phi"
      ]
    },
    {
      "cell_type": "code",
      "execution_count": 16,
      "metadata": {
        "colab": {
          "base_uri": "https://localhost:8080/"
        },
        "id": "qq16CHoCzrjm",
        "outputId": "f3f2149c-8e0a-4d43-b54a-9f996aa97185"
      },
      "outputs": [
        {
          "output_type": "execute_result",
          "data": {
            "text/plain": [
              "array([0.0504, 0.0566, 0.1046, 0.2654, 0.523 ])"
            ]
          },
          "metadata": {},
          "execution_count": 16
        }
      ],
      "source": [
        "phi = np.array(phi)\n",
        "phi = phi/m\n",
        "phi"
      ]
    },
    {
      "cell_type": "markdown",
      "metadata": {
        "id": "CQL4AhbBzrjm"
      },
      "source": [
        "Determining theta to determine the conditional probability of x given y"
      ]
    },
    {
      "cell_type": "code",
      "execution_count": 17,
      "metadata": {
        "id": "yJJ1g3aTzrjm"
      },
      "outputs": [],
      "source": [
        "thetaParaArray = []\n",
        "alpha = 1\n",
        "for j in range(n):\n",
        "    para = [alpha for _ in range(len(labels))]\n",
        "    for i in range(m):\n",
        "        para[y[i][0]-1] += X[i][j]\n",
        "    total = np.sum(para) + alpha*n\n",
        "    para /= total\n",
        "    thetaParaArray.append(para)\n",
        "\n",
        "thetaParaArray = np.array(thetaParaArray) "
      ]
    },
    {
      "cell_type": "code",
      "execution_count": 18,
      "metadata": {
        "colab": {
          "base_uri": "https://localhost:8080/"
        },
        "id": "mwti-aRLzrjn",
        "outputId": "e9d40702-3016-426a-a8ab-032f2000e0fe"
      },
      "outputs": [
        {
          "output_type": "execute_result",
          "data": {
            "text/plain": [
              "(20325, 5)"
            ]
          },
          "metadata": {},
          "execution_count": 18
        }
      ],
      "source": [
        "theta = np.array(thetaParaArray)\n",
        "theta.shape"
      ]
    },
    {
      "cell_type": "code",
      "execution_count": 19,
      "metadata": {
        "colab": {
          "base_uri": "https://localhost:8080/"
        },
        "id": "RJrmbM4Ezrjo",
        "outputId": "7e69b831-c560-43ec-d70c-88a73d17e06b"
      },
      "outputs": [
        {
          "output_type": "execute_result",
          "data": {
            "text/plain": [
              "array([0.0504, 0.0566, 0.1046, 0.2654, 0.523 ])"
            ]
          },
          "metadata": {},
          "execution_count": 19
        }
      ],
      "source": [
        "phi"
      ]
    },
    {
      "cell_type": "code",
      "execution_count": 20,
      "metadata": {
        "colab": {
          "base_uri": "https://localhost:8080/"
        },
        "id": "0cbjSH3xzrjo",
        "outputId": "315f058e-0938-4f43-d963-59bfd184a798"
      },
      "outputs": [
        {
          "output_type": "execute_result",
          "data": {
            "text/plain": [
              "3384"
            ]
          },
          "metadata": {},
          "execution_count": 20
        }
      ],
      "source": [
        "logphi = np.log(phi)\n",
        "y_test_pred = []\n",
        "accuracy = 0\n",
        "for j in range(m):\n",
        "    probLabels = []\n",
        "    for label in labels: \n",
        "        theta0 = theta.T[label-1]\n",
        "        X_val = X_test[j]\n",
        "        prob = []\n",
        "        for i in range(n):\n",
        "            if X_val[i]:\n",
        "                prob.append(np.log(theta0[i]))\n",
        "        sum_ = sum(prob)\n",
        "        #print('label'+str(label))\n",
        "        probLabel = sum_ + logphi[label-1]\n",
        "        #print(probLabel)\n",
        "        probLabels.append(probLabel)\n",
        "    y_real = y_test[j]\n",
        "    y_pred = probLabels.index(max(probLabels)) + 1\n",
        "    if y_real==y_pred:\n",
        "        accuracy += 1\n",
        "    #print(y_pred, y_real)\n",
        "    #print()\n",
        "    y_test_pred.append(y_pred)\n",
        "\n",
        "accuracy"
      ]
    },
    {
      "cell_type": "markdown",
      "metadata": {
        "id": "-33f9xktzrjp"
      },
      "source": [
        "Comparing the Real label of 1st test data with the predicted label "
      ]
    },
    {
      "cell_type": "code",
      "execution_count": 21,
      "metadata": {
        "colab": {
          "base_uri": "https://localhost:8080/"
        },
        "id": "ALjoUX_azrjp",
        "outputId": "527afb89-86ea-4644-c0ef-bfc8120fdcb8"
      },
      "outputs": [
        {
          "output_type": "execute_result",
          "data": {
            "text/plain": [
              "(array([5]), 5)"
            ]
          },
          "metadata": {},
          "execution_count": 21
        }
      ],
      "source": [
        "y_test[0], y_test_pred[0]"
      ]
    },
    {
      "cell_type": "markdown",
      "metadata": {
        "id": "j5qGsxf6zrjp"
      },
      "source": [
        "Accuracy%"
      ]
    },
    {
      "cell_type": "code",
      "execution_count": 22,
      "metadata": {
        "colab": {
          "base_uri": "https://localhost:8080/"
        },
        "id": "DpyAi7eJzrjq",
        "outputId": "0f8cecea-ad3d-4690-fde2-2f2701253fd7"
      },
      "outputs": [
        {
          "output_type": "execute_result",
          "data": {
            "text/plain": [
              "67.68"
            ]
          },
          "metadata": {},
          "execution_count": 22
        }
      ],
      "source": [
        "accuracy*100/y_test.shape[0]"
      ]
    },
    {
      "cell_type": "markdown",
      "metadata": {
        "id": "uDDMxPGFzrjq"
      },
      "source": [
        "Reason for having such a low accuracy:\n",
        " 1. Imbalanced Data Distribution\n",
        "    With 50% of the data has label '5', Can use Oversampling technique such as SMOTE to rectify it\n",
        "\n",
        " 2. Simple Features\n",
        "    Can use feature engineering to create new feature like combining two words"
      ]
    }
  ],
  "metadata": {
    "interpreter": {
      "hash": "916dbcbb3f70747c44a77c7bcd40155683ae19c65e1c03b4aa3499c5328201f1"
    },
    "kernelspec": {
      "display_name": "Python 3.8.10 64-bit",
      "language": "python",
      "name": "python3"
    },
    "language_info": {
      "codemirror_mode": {
        "name": "ipython",
        "version": 3
      },
      "file_extension": ".py",
      "mimetype": "text/x-python",
      "name": "python",
      "nbconvert_exporter": "python",
      "pygments_lexer": "ipython3",
      "version": "3.8.10"
    },
    "orig_nbformat": 4,
    "colab": {
      "name": "naive_bayes.ipynb",
      "provenance": [],
      "include_colab_link": true
    }
  },
  "nbformat": 4,
  "nbformat_minor": 0
}