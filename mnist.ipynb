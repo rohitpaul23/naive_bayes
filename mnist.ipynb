{
 "cells": [
  {
   "cell_type": "markdown",
   "metadata": {},
   "source": [
    "SUPPORT VECTOR MACHINES\n",
    "\n",
    "\n",
    "Support Vector Machines (SVMs) to build a handwritten digit classifier. \n",
    "I will be solving the SVM optimization problem using a general purpose convex optimization package as well\n",
    "as using a customized solver known as LIBSVM. \n",
    "\n",
    "Provided with separate training and test example files. Each row in the (train/test) data file corresponds to an image of size 28x28, represented as a vector of grayscale pixel intensities followed by the label associated with the image. Every column represents a feature where the feature value denotes the gray-scale value (0-255) of the corresponding pixel in the image. There is a feature for every pixel in the image. Last column gives the corresponding label. \n",
    "\n",
    "The entire dataset (along with description) is available at the webpage. We will work with a subset of the MNIST\n",
    "data for the purpose of this assignment. This subset can be downloaded from the link. Since the features\n",
    "represent grayscale values (on the same metric), we may not want to normalize the data to zero mean and\n",
    "unit variance as described in the class. But for this problem, we may find it helpful to simply scale all the\n",
    "values to the range [0,1] (down from [0 255])."
   ]
  },
  {
   "cell_type": "code",
   "execution_count": 2,
   "metadata": {},
   "outputs": [],
   "source": [
    "import pandas as pd\n",
    "import numpy as np"
   ]
  },
  {
   "cell_type": "code",
   "execution_count": 17,
   "metadata": {},
   "outputs": [],
   "source": [
    "datatrainloc = './data/q2/mnist/train.csv'\n",
    "datatestloc = './data/q2/mnist/test.csv'\n",
    "\n",
    "train_data = pd.read_csv(datatrainloc, header=None)\n",
    "X = train_data.iloc[:,:-1]\n",
    "y = train_data.iloc[:,-1]\n"
   ]
  },
  {
   "cell_type": "code",
   "execution_count": 22,
   "metadata": {},
   "outputs": [
    {
     "data": {
      "text/plain": [
       "(20000, 784)"
      ]
     },
     "execution_count": 22,
     "metadata": {},
     "output_type": "execute_result"
    }
   ],
   "source": [
    "m = X.shape[0]\n",
    "n = X.shape[1]\n",
    "m, n"
   ]
  },
  {
   "cell_type": "code",
   "execution_count": 25,
   "metadata": {},
   "outputs": [
    {
     "name": "stderr",
     "output_type": "stream",
     "text": [
      "/tmp/ipykernel_4172/2953730575.py:3: SettingWithCopyWarning: \n",
      "A value is trying to be set on a copy of a slice from a DataFrame\n",
      "\n",
      "See the caveats in the documentation: https://pandas.pydata.org/pandas-docs/stable/user_guide/indexing.html#returning-a-view-versus-a-copy\n",
      "  X.iloc[i,j] = X.iloc[i,j]/255\n",
      "/tmp/ipykernel_4172/2953730575.py:3: SettingWithCopyWarning: \n",
      "A value is trying to be set on a copy of a slice from a DataFrame.\n",
      "Try using .loc[row_indexer,col_indexer] = value instead\n",
      "\n",
      "See the caveats in the documentation: https://pandas.pydata.org/pandas-docs/stable/user_guide/indexing.html#returning-a-view-versus-a-copy\n",
      "  X.iloc[i,j] = X.iloc[i,j]/255\n"
     ]
    },
    {
     "ename": "KeyboardInterrupt",
     "evalue": "",
     "output_type": "error",
     "traceback": [
      "\u001b[0;31m---------------------------------------------------------------------------\u001b[0m",
      "\u001b[0;31mKeyboardInterrupt\u001b[0m                         Traceback (most recent call last)",
      "\u001b[1;32m/home/paul/Desktop/ml/assignment/ass2/mnist.ipynb Cell 5'\u001b[0m in \u001b[0;36m<cell line: 1>\u001b[0;34m()\u001b[0m\n\u001b[1;32m      <a href='vscode-notebook-cell:/home/paul/Desktop/ml/assignment/ass2/mnist.ipynb#ch0000005?line=0'>1</a>\u001b[0m \u001b[39mfor\u001b[39;00m i \u001b[39min\u001b[39;00m \u001b[39mrange\u001b[39m(m):\n\u001b[1;32m      <a href='vscode-notebook-cell:/home/paul/Desktop/ml/assignment/ass2/mnist.ipynb#ch0000005?line=1'>2</a>\u001b[0m     \u001b[39mfor\u001b[39;00m j \u001b[39min\u001b[39;00m \u001b[39mrange\u001b[39m(n):\n\u001b[0;32m----> <a href='vscode-notebook-cell:/home/paul/Desktop/ml/assignment/ass2/mnist.ipynb#ch0000005?line=2'>3</a>\u001b[0m         X\u001b[39m.\u001b[39miloc[i,j] \u001b[39m=\u001b[39m X\u001b[39m.\u001b[39miloc[i,j]\u001b[39m/\u001b[39m\u001b[39m255\u001b[39m\n",
      "File \u001b[0;32m~/.local/lib/python3.8/site-packages/pandas/core/indexing.py:716\u001b[0m, in \u001b[0;36m_LocationIndexer.__setitem__\u001b[0;34m(self, key, value)\u001b[0m\n\u001b[1;32m    <a href='file:///home/paul/.local/lib/python3.8/site-packages/pandas/core/indexing.py?line=712'>713</a>\u001b[0m \u001b[39mself\u001b[39m\u001b[39m.\u001b[39m_has_valid_setitem_indexer(key)\n\u001b[1;32m    <a href='file:///home/paul/.local/lib/python3.8/site-packages/pandas/core/indexing.py?line=714'>715</a>\u001b[0m iloc \u001b[39m=\u001b[39m \u001b[39mself\u001b[39m \u001b[39mif\u001b[39;00m \u001b[39mself\u001b[39m\u001b[39m.\u001b[39mname \u001b[39m==\u001b[39m \u001b[39m\"\u001b[39m\u001b[39miloc\u001b[39m\u001b[39m\"\u001b[39m \u001b[39melse\u001b[39;00m \u001b[39mself\u001b[39m\u001b[39m.\u001b[39mobj\u001b[39m.\u001b[39miloc\n\u001b[0;32m--> <a href='file:///home/paul/.local/lib/python3.8/site-packages/pandas/core/indexing.py?line=715'>716</a>\u001b[0m iloc\u001b[39m.\u001b[39;49m_setitem_with_indexer(indexer, value, \u001b[39mself\u001b[39;49m\u001b[39m.\u001b[39;49mname)\n",
      "File \u001b[0;32m~/.local/lib/python3.8/site-packages/pandas/core/indexing.py:1688\u001b[0m, in \u001b[0;36m_iLocIndexer._setitem_with_indexer\u001b[0;34m(self, indexer, value, name)\u001b[0m\n\u001b[1;32m   <a href='file:///home/paul/.local/lib/python3.8/site-packages/pandas/core/indexing.py?line=1684'>1685</a>\u001b[0m \u001b[39m# align and set the values\u001b[39;00m\n\u001b[1;32m   <a href='file:///home/paul/.local/lib/python3.8/site-packages/pandas/core/indexing.py?line=1685'>1686</a>\u001b[0m \u001b[39mif\u001b[39;00m take_split_path:\n\u001b[1;32m   <a href='file:///home/paul/.local/lib/python3.8/site-packages/pandas/core/indexing.py?line=1686'>1687</a>\u001b[0m     \u001b[39m# We have to operate column-wise\u001b[39;00m\n\u001b[0;32m-> <a href='file:///home/paul/.local/lib/python3.8/site-packages/pandas/core/indexing.py?line=1687'>1688</a>\u001b[0m     \u001b[39mself\u001b[39;49m\u001b[39m.\u001b[39;49m_setitem_with_indexer_split_path(indexer, value, name)\n\u001b[1;32m   <a href='file:///home/paul/.local/lib/python3.8/site-packages/pandas/core/indexing.py?line=1688'>1689</a>\u001b[0m \u001b[39melse\u001b[39;00m:\n\u001b[1;32m   <a href='file:///home/paul/.local/lib/python3.8/site-packages/pandas/core/indexing.py?line=1689'>1690</a>\u001b[0m     \u001b[39mself\u001b[39m\u001b[39m.\u001b[39m_setitem_single_block(indexer, value, name)\n",
      "File \u001b[0;32m~/.local/lib/python3.8/site-packages/pandas/core/indexing.py:1779\u001b[0m, in \u001b[0;36m_iLocIndexer._setitem_with_indexer_split_path\u001b[0;34m(self, indexer, value, name)\u001b[0m\n\u001b[1;32m   <a href='file:///home/paul/.local/lib/python3.8/site-packages/pandas/core/indexing.py?line=1774'>1775</a>\u001b[0m \u001b[39melse\u001b[39;00m:\n\u001b[1;32m   <a href='file:///home/paul/.local/lib/python3.8/site-packages/pandas/core/indexing.py?line=1775'>1776</a>\u001b[0m \n\u001b[1;32m   <a href='file:///home/paul/.local/lib/python3.8/site-packages/pandas/core/indexing.py?line=1776'>1777</a>\u001b[0m     \u001b[39m# scalar value\u001b[39;00m\n\u001b[1;32m   <a href='file:///home/paul/.local/lib/python3.8/site-packages/pandas/core/indexing.py?line=1777'>1778</a>\u001b[0m     \u001b[39mfor\u001b[39;00m loc \u001b[39min\u001b[39;00m ilocs:\n\u001b[0;32m-> <a href='file:///home/paul/.local/lib/python3.8/site-packages/pandas/core/indexing.py?line=1778'>1779</a>\u001b[0m         \u001b[39mself\u001b[39;49m\u001b[39m.\u001b[39;49m_setitem_single_column(loc, value, pi)\n",
      "File \u001b[0;32m~/.local/lib/python3.8/site-packages/pandas/core/indexing.py:1891\u001b[0m, in \u001b[0;36m_iLocIndexer._setitem_single_column\u001b[0;34m(self, loc, value, plane_indexer)\u001b[0m\n\u001b[1;32m   <a href='file:///home/paul/.local/lib/python3.8/site-packages/pandas/core/indexing.py?line=1886'>1887</a>\u001b[0m     \u001b[39mif\u001b[39;00m ser\u001b[39m.\u001b[39m_values \u001b[39mis\u001b[39;00m orig_values:\n\u001b[1;32m   <a href='file:///home/paul/.local/lib/python3.8/site-packages/pandas/core/indexing.py?line=1887'>1888</a>\u001b[0m         \u001b[39m# The setitem happened inplace, so the DataFrame's values\u001b[39;00m\n\u001b[1;32m   <a href='file:///home/paul/.local/lib/python3.8/site-packages/pandas/core/indexing.py?line=1888'>1889</a>\u001b[0m         \u001b[39m#  were modified inplace.\u001b[39;00m\n\u001b[1;32m   <a href='file:///home/paul/.local/lib/python3.8/site-packages/pandas/core/indexing.py?line=1889'>1890</a>\u001b[0m         \u001b[39mreturn\u001b[39;00m\n\u001b[0;32m-> <a href='file:///home/paul/.local/lib/python3.8/site-packages/pandas/core/indexing.py?line=1890'>1891</a>\u001b[0m     \u001b[39mself\u001b[39;49m\u001b[39m.\u001b[39;49mobj\u001b[39m.\u001b[39;49m_iset_item(loc, ser)\n\u001b[1;32m   <a href='file:///home/paul/.local/lib/python3.8/site-packages/pandas/core/indexing.py?line=1891'>1892</a>\u001b[0m     \u001b[39mreturn\u001b[39;00m\n\u001b[1;32m   <a href='file:///home/paul/.local/lib/python3.8/site-packages/pandas/core/indexing.py?line=1893'>1894</a>\u001b[0m \u001b[39m# reset the sliced object if unique\u001b[39;00m\n",
      "File \u001b[0;32m~/.local/lib/python3.8/site-packages/pandas/core/frame.py:3814\u001b[0m, in \u001b[0;36mDataFrame._iset_item\u001b[0;34m(self, loc, value)\u001b[0m\n\u001b[1;32m   <a href='file:///home/paul/.local/lib/python3.8/site-packages/pandas/core/frame.py?line=3811'>3812</a>\u001b[0m \u001b[39mdef\u001b[39;00m \u001b[39m_iset_item\u001b[39m(\u001b[39mself\u001b[39m, loc: \u001b[39mint\u001b[39m, value) \u001b[39m-\u001b[39m\u001b[39m>\u001b[39m \u001b[39mNone\u001b[39;00m:\n\u001b[1;32m   <a href='file:///home/paul/.local/lib/python3.8/site-packages/pandas/core/frame.py?line=3812'>3813</a>\u001b[0m     arraylike \u001b[39m=\u001b[39m \u001b[39mself\u001b[39m\u001b[39m.\u001b[39m_sanitize_column(value)\n\u001b[0;32m-> <a href='file:///home/paul/.local/lib/python3.8/site-packages/pandas/core/frame.py?line=3813'>3814</a>\u001b[0m     \u001b[39mself\u001b[39;49m\u001b[39m.\u001b[39;49m_iset_item_mgr(loc, arraylike, inplace\u001b[39m=\u001b[39;49m\u001b[39mTrue\u001b[39;49;00m)\n\u001b[1;32m   <a href='file:///home/paul/.local/lib/python3.8/site-packages/pandas/core/frame.py?line=3815'>3816</a>\u001b[0m     \u001b[39m# check if we are modifying a copy\u001b[39;00m\n\u001b[1;32m   <a href='file:///home/paul/.local/lib/python3.8/site-packages/pandas/core/frame.py?line=3816'>3817</a>\u001b[0m     \u001b[39m# try to set first as we want an invalid\u001b[39;00m\n\u001b[1;32m   <a href='file:///home/paul/.local/lib/python3.8/site-packages/pandas/core/frame.py?line=3817'>3818</a>\u001b[0m     \u001b[39m# value exception to occur first\u001b[39;00m\n\u001b[1;32m   <a href='file:///home/paul/.local/lib/python3.8/site-packages/pandas/core/frame.py?line=3818'>3819</a>\u001b[0m     \u001b[39mif\u001b[39;00m \u001b[39mlen\u001b[39m(\u001b[39mself\u001b[39m):\n",
      "File \u001b[0;32m~/.local/lib/python3.8/site-packages/pandas/core/frame.py:3794\u001b[0m, in \u001b[0;36mDataFrame._iset_item_mgr\u001b[0;34m(self, loc, value, inplace)\u001b[0m\n\u001b[1;32m   <a href='file:///home/paul/.local/lib/python3.8/site-packages/pandas/core/frame.py?line=3789'>3790</a>\u001b[0m \u001b[39mdef\u001b[39;00m \u001b[39m_iset_item_mgr\u001b[39m(\n\u001b[1;32m   <a href='file:///home/paul/.local/lib/python3.8/site-packages/pandas/core/frame.py?line=3790'>3791</a>\u001b[0m     \u001b[39mself\u001b[39m, loc: \u001b[39mint\u001b[39m \u001b[39m|\u001b[39m \u001b[39mslice\u001b[39m \u001b[39m|\u001b[39m np\u001b[39m.\u001b[39mndarray, value, inplace: \u001b[39mbool\u001b[39m \u001b[39m=\u001b[39m \u001b[39mFalse\u001b[39;00m\n\u001b[1;32m   <a href='file:///home/paul/.local/lib/python3.8/site-packages/pandas/core/frame.py?line=3791'>3792</a>\u001b[0m ) \u001b[39m-\u001b[39m\u001b[39m>\u001b[39m \u001b[39mNone\u001b[39;00m:\n\u001b[1;32m   <a href='file:///home/paul/.local/lib/python3.8/site-packages/pandas/core/frame.py?line=3792'>3793</a>\u001b[0m     \u001b[39m# when called from _set_item_mgr loc can be anything returned from get_loc\u001b[39;00m\n\u001b[0;32m-> <a href='file:///home/paul/.local/lib/python3.8/site-packages/pandas/core/frame.py?line=3793'>3794</a>\u001b[0m     \u001b[39mself\u001b[39;49m\u001b[39m.\u001b[39;49m_mgr\u001b[39m.\u001b[39;49miset(loc, value, inplace\u001b[39m=\u001b[39;49minplace)\n\u001b[1;32m   <a href='file:///home/paul/.local/lib/python3.8/site-packages/pandas/core/frame.py?line=3794'>3795</a>\u001b[0m     \u001b[39mself\u001b[39m\u001b[39m.\u001b[39m_clear_item_cache()\n",
      "File \u001b[0;32m~/.local/lib/python3.8/site-packages/pandas/core/internals/managers.py:1141\u001b[0m, in \u001b[0;36mBlockManager.iset\u001b[0;34m(self, loc, value, inplace)\u001b[0m\n\u001b[1;32m   <a href='file:///home/paul/.local/lib/python3.8/site-packages/pandas/core/internals/managers.py?line=1138'>1139</a>\u001b[0m             removed_blknos\u001b[39m.\u001b[39mappend(blkno_l)\n\u001b[1;32m   <a href='file:///home/paul/.local/lib/python3.8/site-packages/pandas/core/internals/managers.py?line=1139'>1140</a>\u001b[0m         \u001b[39melse\u001b[39;00m:\n\u001b[0;32m-> <a href='file:///home/paul/.local/lib/python3.8/site-packages/pandas/core/internals/managers.py?line=1140'>1141</a>\u001b[0m             blk\u001b[39m.\u001b[39;49mdelete(blk_locs)\n\u001b[1;32m   <a href='file:///home/paul/.local/lib/python3.8/site-packages/pandas/core/internals/managers.py?line=1141'>1142</a>\u001b[0m             \u001b[39mself\u001b[39m\u001b[39m.\u001b[39m_blklocs[blk\u001b[39m.\u001b[39mmgr_locs\u001b[39m.\u001b[39mindexer] \u001b[39m=\u001b[39m np\u001b[39m.\u001b[39marange(\u001b[39mlen\u001b[39m(blk))\n\u001b[1;32m   <a href='file:///home/paul/.local/lib/python3.8/site-packages/pandas/core/internals/managers.py?line=1143'>1144</a>\u001b[0m \u001b[39mif\u001b[39;00m \u001b[39mlen\u001b[39m(removed_blknos):\n\u001b[1;32m   <a href='file:///home/paul/.local/lib/python3.8/site-packages/pandas/core/internals/managers.py?line=1144'>1145</a>\u001b[0m     \u001b[39m# Remove blocks & update blknos accordingly\u001b[39;00m\n",
      "File \u001b[0;32m~/.local/lib/python3.8/site-packages/pandas/core/internals/blocks.py:388\u001b[0m, in \u001b[0;36mBlock.delete\u001b[0;34m(self, loc)\u001b[0m\n\u001b[1;32m    <a href='file:///home/paul/.local/lib/python3.8/site-packages/pandas/core/internals/blocks.py?line=378'>379</a>\u001b[0m \u001b[39m\"\"\"\u001b[39;00m\n\u001b[1;32m    <a href='file:///home/paul/.local/lib/python3.8/site-packages/pandas/core/internals/blocks.py?line=379'>380</a>\u001b[0m \u001b[39mDelete given loc(-s) from block in-place.\u001b[39;00m\n\u001b[1;32m    <a href='file:///home/paul/.local/lib/python3.8/site-packages/pandas/core/internals/blocks.py?line=380'>381</a>\u001b[0m \u001b[39m\"\"\"\u001b[39;00m\n\u001b[1;32m    <a href='file:///home/paul/.local/lib/python3.8/site-packages/pandas/core/internals/blocks.py?line=381'>382</a>\u001b[0m \u001b[39m# Argument 1 to \"delete\" has incompatible type \"Union[ndarray[Any, Any],\u001b[39;00m\n\u001b[1;32m    <a href='file:///home/paul/.local/lib/python3.8/site-packages/pandas/core/internals/blocks.py?line=382'>383</a>\u001b[0m \u001b[39m# ExtensionArray]\"; expected \"Union[_SupportsArray[dtype[Any]],\u001b[39;00m\n\u001b[1;32m    <a href='file:///home/paul/.local/lib/python3.8/site-packages/pandas/core/internals/blocks.py?line=383'>384</a>\u001b[0m \u001b[39m# Sequence[_SupportsArray[dtype[Any]]], Sequence[Sequence\u001b[39;00m\n\u001b[1;32m    <a href='file:///home/paul/.local/lib/python3.8/site-packages/pandas/core/internals/blocks.py?line=384'>385</a>\u001b[0m \u001b[39m# [_SupportsArray[dtype[Any]]]], Sequence[Sequence[Sequence[\u001b[39;00m\n\u001b[1;32m    <a href='file:///home/paul/.local/lib/python3.8/site-packages/pandas/core/internals/blocks.py?line=385'>386</a>\u001b[0m \u001b[39m# _SupportsArray[dtype[Any]]]]], Sequence[Sequence[Sequence[Sequence[\u001b[39;00m\n\u001b[1;32m    <a href='file:///home/paul/.local/lib/python3.8/site-packages/pandas/core/internals/blocks.py?line=386'>387</a>\u001b[0m \u001b[39m# _SupportsArray[dtype[Any]]]]]]]\"  [arg-type]\u001b[39;00m\n\u001b[0;32m--> <a href='file:///home/paul/.local/lib/python3.8/site-packages/pandas/core/internals/blocks.py?line=387'>388</a>\u001b[0m \u001b[39mself\u001b[39m\u001b[39m.\u001b[39mvalues \u001b[39m=\u001b[39m np\u001b[39m.\u001b[39;49mdelete(\u001b[39mself\u001b[39;49m\u001b[39m.\u001b[39;49mvalues, loc, \u001b[39m0\u001b[39;49m)  \u001b[39m# type: ignore[arg-type]\u001b[39;00m\n\u001b[1;32m    <a href='file:///home/paul/.local/lib/python3.8/site-packages/pandas/core/internals/blocks.py?line=388'>389</a>\u001b[0m \u001b[39mself\u001b[39m\u001b[39m.\u001b[39mmgr_locs \u001b[39m=\u001b[39m \u001b[39mself\u001b[39m\u001b[39m.\u001b[39m_mgr_locs\u001b[39m.\u001b[39mdelete(loc)\n\u001b[1;32m    <a href='file:///home/paul/.local/lib/python3.8/site-packages/pandas/core/internals/blocks.py?line=389'>390</a>\u001b[0m \u001b[39mtry\u001b[39;00m:\n",
      "File \u001b[0;32m<__array_function__ internals>:180\u001b[0m, in \u001b[0;36mdelete\u001b[0;34m(*args, **kwargs)\u001b[0m\n",
      "File \u001b[0;32m~/.local/lib/python3.8/site-packages/numpy/lib/function_base.py:5131\u001b[0m, in \u001b[0;36mdelete\u001b[0;34m(arr, obj, axis)\u001b[0m\n\u001b[1;32m   <a href='file:///home/paul/.local/lib/python3.8/site-packages/numpy/lib/function_base.py?line=5127'>5128</a>\u001b[0m         keep[obj,] \u001b[39m=\u001b[39m \u001b[39mFalse\u001b[39;00m\n\u001b[1;32m   <a href='file:///home/paul/.local/lib/python3.8/site-packages/numpy/lib/function_base.py?line=5129'>5130</a>\u001b[0m     slobj[axis] \u001b[39m=\u001b[39m keep\n\u001b[0;32m-> <a href='file:///home/paul/.local/lib/python3.8/site-packages/numpy/lib/function_base.py?line=5130'>5131</a>\u001b[0m     new \u001b[39m=\u001b[39m arr[\u001b[39mtuple\u001b[39;49m(slobj)]\n\u001b[1;32m   <a href='file:///home/paul/.local/lib/python3.8/site-packages/numpy/lib/function_base.py?line=5132'>5133</a>\u001b[0m \u001b[39mif\u001b[39;00m wrap:\n\u001b[1;32m   <a href='file:///home/paul/.local/lib/python3.8/site-packages/numpy/lib/function_base.py?line=5133'>5134</a>\u001b[0m     \u001b[39mreturn\u001b[39;00m wrap(new)\n",
      "\u001b[0;31mKeyboardInterrupt\u001b[0m: "
     ]
    }
   ],
   "source": [
    "scaledX = []\n",
    "for i in range(m):\n",
    "    for j in range(n):\n",
    "        X.iloc[i,j] = X.iloc[i,j]/255"
   ]
  }
 ],
 "metadata": {
  "interpreter": {
   "hash": "916dbcbb3f70747c44a77c7bcd40155683ae19c65e1c03b4aa3499c5328201f1"
  },
  "kernelspec": {
   "display_name": "Python 3.8.10 64-bit",
   "language": "python",
   "name": "python3"
  },
  "language_info": {
   "codemirror_mode": {
    "name": "ipython",
    "version": 3
   },
   "file_extension": ".py",
   "mimetype": "text/x-python",
   "name": "python",
   "nbconvert_exporter": "python",
   "pygments_lexer": "ipython3",
   "version": "3.8.10"
  },
  "orig_nbformat": 4
 },
 "nbformat": 4,
 "nbformat_minor": 2
}
